{
  "nbformat": 4,
  "nbformat_minor": 0,
  "metadata": {
    "colab": {
      "provenance": []
    },
    "kernelspec": {
      "name": "python3",
      "display_name": "Python 3"
    },
    "language_info": {
      "name": "python"
    }
  },
  "cells": [
    {
      "cell_type": "code",
      "execution_count": 22,
      "metadata": {
        "colab": {
          "base_uri": "https://localhost:8080/"
        },
        "id": "6zvBs4mKMJcK",
        "outputId": "51842017-2c84-4da7-d1c7-1f0a49d66f81"
      },
      "outputs": [
        {
          "output_type": "stream",
          "name": "stdout",
          "text": [
            "Requirement already satisfied: surprise in /usr/local/lib/python3.10/dist-packages (0.1)\n",
            "Requirement already satisfied: scikit-surprise in /usr/local/lib/python3.10/dist-packages (from surprise) (1.1.3)\n",
            "Requirement already satisfied: joblib>=1.0.0 in /usr/local/lib/python3.10/dist-packages (from scikit-surprise->surprise) (1.3.2)\n",
            "Requirement already satisfied: numpy>=1.17.3 in /usr/local/lib/python3.10/dist-packages (from scikit-surprise->surprise) (1.25.2)\n",
            "Requirement already satisfied: scipy>=1.3.2 in /usr/local/lib/python3.10/dist-packages (from scikit-surprise->surprise) (1.11.4)\n"
          ]
        }
      ],
      "source": [
        "!pip install surprise\n",
        "from surprise import Dataset\n",
        "from surprise.model_selection import train_test_split, cross_validate\n",
        "from surprise.prediction_algorithms import BaselineOnly, SVD, SVDpp, NMF"
      ]
    },
    {
      "cell_type": "markdown",
      "source": [
        "Завантажуємо movielens-100k датасет (алгоритм запропонує завантажити його, якщо необхідно)"
      ],
      "metadata": {
        "id": "6xxWbgrP0xSE"
      }
    },
    {
      "cell_type": "code",
      "source": [
        "data = Dataset.load_builtin('ml-100k')\n",
        "\n",
        "trainset, testset = train_test_split(data, test_size=0.2)\n"
      ],
      "metadata": {
        "id": "-iuPWRHnwxt_"
      },
      "execution_count": 23,
      "outputs": []
    },
    {
      "cell_type": "markdown",
      "source": [
        "Проведемо порівняння алгоритмів :\n",
        "\n",
        "*   SVD\n",
        "*   SVD++\n",
        "*   NMF\n",
        "\n",
        "Побудуємо моделі для кожного алгоритму і ознайомимося з їх результатами, щоб визначити їх ефективність."
      ],
      "metadata": {
        "id": "rq3VyVVy8neQ"
      }
    },
    {
      "cell_type": "markdown",
      "source": [
        "Для розуміння додамо коротенький опис методів:\n",
        "\n",
        "\n",
        "\n",
        "1.   SVD (Singular Value Decomposition): Один з класичних методів розкладу матриці з дійсними або комплексними числами. Є узагальненням власного розкладу матриці невід'ємно визначеної нормальної матриці (наприклад, симетричної матриці з додатними власними значеннями) на матрицю розміру\n",
        "m x n як узагальнення полярного розкладу.\n",
        "2.   SVD++: Цей алгоритм включає в себе додаткові функції, такі як здатність рекомендувати нові або менше оцінені елементи, що може покращити точність прогнозування.\n",
        "3.   NMF (Non-Negative Matrix Factorization): Цей алгоритм використовує не негативну матричну факторизацію, яка може бути корисною, коли рейтинги є не від'ємними числами."
      ],
      "metadata": {
        "id": "047E1bhL-Tnd"
      }
    },
    {
      "cell_type": "code",
      "source": [
        "svd = SVD()\n",
        "svdpp = SVDpp()\n",
        "nmf = NMF()\n",
        "\n",
        "\n",
        "models = [svd, svdpp, nmf]\n",
        "for model in models:\n",
        "    results = cross_validate(model, data, measures=['RMSE', 'MAE'], cv=5, verbose=True)\n",
        "    print(f\"{type(model).__name__}:\")\n",
        "    print(\"  RMSE:\", results['test_rmse'].mean())\n",
        "    print(\"  MAE:\", results['test_mae'].mean())"
      ],
      "metadata": {
        "colab": {
          "base_uri": "https://localhost:8080/"
        },
        "id": "xYlkcXRm7fxj",
        "outputId": "588d8860-4b44-4db0-dc65-6a0da84d9197"
      },
      "execution_count": 24,
      "outputs": [
        {
          "output_type": "stream",
          "name": "stdout",
          "text": [
            "Evaluating RMSE, MAE of algorithm SVD on 5 split(s).\n",
            "\n",
            "                  Fold 1  Fold 2  Fold 3  Fold 4  Fold 5  Mean    Std     \n",
            "RMSE (testset)    0.9467  0.9239  0.9371  0.9371  0.9388  0.9367  0.0073  \n",
            "MAE (testset)     0.7468  0.7297  0.7392  0.7372  0.7387  0.7383  0.0054  \n",
            "Fit time          1.72    1.82    1.59    1.64    2.56    1.87    0.36    \n",
            "Test time         0.12    0.55    0.13    0.22    0.59    0.32    0.20    \n",
            "SVD:\n",
            "  RMSE: 0.9367079238306826\n",
            "  MAE: 0.7383225451250169\n",
            "Evaluating RMSE, MAE of algorithm SVDpp on 5 split(s).\n",
            "\n",
            "                  Fold 1  Fold 2  Fold 3  Fold 4  Fold 5  Mean    Std     \n",
            "RMSE (testset)    0.9177  0.9220  0.9177  0.9203  0.9198  0.9195  0.0016  \n",
            "MAE (testset)     0.7182  0.7269  0.7199  0.7185  0.7211  0.7209  0.0032  \n",
            "Fit time          30.87   29.73   29.66   29.11   29.75   29.83   0.57    \n",
            "Test time         5.35    5.58    5.47    5.57    5.81    5.55    0.15    \n",
            "SVDpp:\n",
            "  RMSE: 0.9194800435090803\n",
            "  MAE: 0.7209124265280125\n",
            "Evaluating RMSE, MAE of algorithm NMF on 5 split(s).\n",
            "\n",
            "                  Fold 1  Fold 2  Fold 3  Fold 4  Fold 5  Mean    Std     \n",
            "RMSE (testset)    0.9692  0.9668  0.9629  0.9604  0.9584  0.9635  0.0040  \n",
            "MAE (testset)     0.7619  0.7610  0.7588  0.7558  0.7498  0.7575  0.0044  \n",
            "Fit time          2.95    2.64    2.16    2.96    2.82    2.71    0.30    \n",
            "Test time         0.43    0.10    0.14    0.34    0.15    0.23    0.13    \n",
            "NMF:\n",
            "  RMSE: 0.9635471165561572\n",
            "  MAE: 0.7574638250544738\n"
          ]
        }
      ]
    },
    {
      "cell_type": "markdown",
      "source": [
        "Розберемо метрики, які ми можемо спостерігати в результаті виконання коду:\n",
        "\n",
        "*   RMSE Root Mean Squared Error (testset): Середньоквадратична помилка між реальними та передбаченими рейтингами на тестовому наборі даних. Чим менше значення, тим краще.\n",
        "*   MAE Mean Absolute Error (testset): Середня абсолютна помилка між реальними та передбаченими рейтингами на тестовому наборі даних. Чим менше значення, тим краще.\n",
        "*   Fit time: Час, необхідний для навчання моделі на кожному розділі даних. Зазвичай це вимірюється в секундах.\n",
        "*   Test time: Час, необхідний для прогнозування рейтингів для тестового набору даних. Зазвичай це також вимірюється в секундах.\n",
        "\n",
        "Потім ознайомлюємося з усередненими значеннями RMSE та MAE зібраними на п'яти різних розділах даних для кожного із дослуджуваних методів ."
      ],
      "metadata": {
        "id": "h5R0YyTKA4VA"
      }
    },
    {
      "cell_type": "markdown",
      "source": [
        "Додамо також для порівняння Baseline модель. Це є простим методом прогнозування рейтингів, що базується на середній оцінці кожного користувача та середній оцінці для кожного предмета (фільму)."
      ],
      "metadata": {
        "id": "V4_8qcMYDOkr"
      }
    },
    {
      "cell_type": "code",
      "source": [
        "baseline = BaselineOnly()\n",
        "\n",
        "results = cross_validate(baseline, data, measures=['RMSE', 'MAE'], cv=5, verbose=True)\n",
        "print(f\"{type(model).__name__}:\")\n",
        "print(\"  RMSE:\", results['test_rmse'].mean())\n",
        "print(\"  MAE:\", results['test_mae'].mean())"
      ],
      "metadata": {
        "colab": {
          "base_uri": "https://localhost:8080/"
        },
        "id": "GUe5ehcS9wZw",
        "outputId": "94755224-0717-4b0a-ece2-4cf5432ba882"
      },
      "execution_count": 25,
      "outputs": [
        {
          "output_type": "stream",
          "name": "stdout",
          "text": [
            "Estimating biases using als...\n",
            "Estimating biases using als...\n",
            "Estimating biases using als...\n",
            "Estimating biases using als...\n",
            "Estimating biases using als...\n",
            "Evaluating RMSE, MAE of algorithm BaselineOnly on 5 split(s).\n",
            "\n",
            "                  Fold 1  Fold 2  Fold 3  Fold 4  Fold 5  Mean    Std     \n",
            "RMSE (testset)    0.9554  0.9387  0.9411  0.9370  0.9505  0.9446  0.0072  \n",
            "MAE (testset)     0.7545  0.7439  0.7465  0.7447  0.7547  0.7489  0.0048  \n",
            "Fit time          0.49    0.46    0.62    0.68    0.39    0.53    0.11    \n",
            "Test time         0.09    0.49    0.20    0.21    0.10    0.22    0.15    \n",
            "NMF:\n",
            "  RMSE: 0.9445568276808871\n",
            "  MAE: 0.7488705491658902\n"
          ]
        }
      ]
    },
    {
      "cell_type": "markdown",
      "source": [
        "**Висновок:**\n",
        "\n",
        "Ознайомившись з результатами можемо спостерігати, що методи SVD та SVD++ показали кращі результати від звичайного методу рогнозування за середніми числами Baseline.\n",
        "\n",
        "SVD++ показав найкращий результат, тим не менш - він потребує більшого часу для навчання моделі і прогнозування рейтингів."
      ],
      "metadata": {
        "id": "WIW7JX8eD6Zd"
      }
    }
  ]
}