{
 "cells": [
  {
   "cell_type": "code",
   "execution_count": 1,
   "metadata": {},
   "outputs": [],
   "source": [
    "import numpy as np\n"
   ]
  },
  {
   "cell_type": "markdown",
   "metadata": {},
   "source": [
    "1. Створіть одновимірний масив (вектор) з першими 10-ма натуральними числами та виведіть його значення."
   ]
  },
  {
   "cell_type": "code",
   "execution_count": 2,
   "metadata": {},
   "outputs": [
    {
     "name": "stdout",
     "output_type": "stream",
     "text": [
      "[ 1.  2.  3.  4.  5.  6.  7.  8.  9. 10.]\n"
     ]
    }
   ],
   "source": [
    "a = np.array([1, 2, 3, 4, 5,6,7,8,9,10], dtype=float)\n",
    "\n",
    "print(a)"
   ]
  },
  {
   "cell_type": "markdown",
   "metadata": {},
   "source": [
    "2. Створіть двовимірний масив (матрицю) розміром 3x3, заповніть його нулями та виведіть його значення."
   ]
  },
  {
   "cell_type": "code",
   "execution_count": 3,
   "metadata": {},
   "outputs": [
    {
     "name": "stdout",
     "output_type": "stream",
     "text": [
      "[[0 0 0]\n",
      " [0 0 0]\n",
      " [0 0 0]]\n"
     ]
    }
   ],
   "source": [
    "m = np.zeros((3,3), dtype=int)\n",
    "\n",
    "print(m)"
   ]
  },
  {
   "cell_type": "markdown",
   "metadata": {},
   "source": [
    "3. Створіть масив розміром 5x5, заповніть його випадковими цілими числами в діапазоні від 1 до 10 та виведіть його значення."
   ]
  },
  {
   "cell_type": "code",
   "execution_count": 4,
   "metadata": {},
   "outputs": [
    {
     "name": "stdout",
     "output_type": "stream",
     "text": [
      "[[ 5  5  1  4  2]\n",
      " [10  1  1  8  5]\n",
      " [ 9 10 10  3  1]\n",
      " [ 9 10  5  4  7]\n",
      " [ 8  9  4  7  6]]\n"
     ]
    }
   ],
   "source": [
    "m = np.random.randint(1,11, size=(5,5))\n",
    "\n",
    "print(m)"
   ]
  },
  {
   "cell_type": "markdown",
   "metadata": {},
   "source": [
    "4. Створіть масив розміром 4x4, заповніть його випадковими дійсними числами в діапазоні від 0 до 1 та виведіть його значення."
   ]
  },
  {
   "cell_type": "code",
   "execution_count": 5,
   "metadata": {},
   "outputs": [
    {
     "name": "stdout",
     "output_type": "stream",
     "text": [
      "[[0.85010006 0.65658054 0.92344623 0.72214913]\n",
      " [0.81389612 0.96641158 0.31285585 0.86618322]\n",
      " [0.73979646 0.89042535 0.885005   0.2525073 ]\n",
      " [0.15014424 0.09617895 0.19897593 0.45429346]]\n"
     ]
    }
   ],
   "source": [
    "m = np.random.rand(4,4)\n",
    "\n",
    "print(m)"
   ]
  },
  {
   "cell_type": "markdown",
   "metadata": {},
   "source": [
    "5. Створіть два одновимірних масиви розміром 5, заповніть їх випадковими цілими числами в діапазоні від 1 до 10 та виконайте на них поелементні операції додавання, віднімання та множення."
   ]
  },
  {
   "cell_type": "code",
   "execution_count": 6,
   "metadata": {},
   "outputs": [
    {
     "name": "stdout",
     "output_type": "stream",
     "text": [
      "[2 7 7 4 9]\n",
      "[10  6  6  7  3]\n",
      "[12 13 13 11 12]\n",
      "[-8  1  1 -3  6]\n",
      "[20 42 42 28 27]\n"
     ]
    }
   ],
   "source": [
    "a = np.random.randint(1,11, size=(5))\n",
    "\n",
    "print(a)\n",
    "\n",
    "b = np.random.randint(1,11, size=(5))\n",
    "\n",
    "print(b)\n",
    "\n",
    "print(a + b)\n",
    "print(a - b)\n",
    "print(a * b)"
   ]
  },
  {
   "cell_type": "markdown",
   "metadata": {},
   "source": [
    "6. Створіть два вектори розміром 7, заповніть довільними числами та знайдіть їх скалярний добуток."
   ]
  },
  {
   "cell_type": "code",
   "execution_count": 7,
   "metadata": {},
   "outputs": [
    {
     "name": "stdout",
     "output_type": "stream",
     "text": [
      "a= [0.27248928 0.78657693 0.16237991 0.0474788  0.14052102 0.85747979\n",
      " 0.74393968]\n",
      "b= [0.8504122  0.0011795  0.70410639 0.41029036 0.88145021 0.69038346\n",
      " 0.33012217]\n",
      "[0.23172821 0.00092777 0.11433273 0.0194801  0.12386228 0.59198986\n",
      " 0.24559098]\n"
     ]
    }
   ],
   "source": [
    "a = np.random.rand(7)\n",
    "\n",
    "print(\"a=\", a)\n",
    "\n",
    "b = np.random.rand(7)\n",
    "\n",
    "print(\"b=\", b)\n",
    "\n",
    "print(a * b)"
   ]
  },
  {
   "cell_type": "markdown",
   "metadata": {},
   "source": [
    "7. Створіть дві матриці розміром 2x2 та 2x3, заповніть їх випадковими цілими числами в діапазоні від 1 до 10 та перемножте їх між собою."
   ]
  },
  {
   "cell_type": "code",
   "execution_count": 8,
   "metadata": {},
   "outputs": [
    {
     "name": "stdout",
     "output_type": "stream",
     "text": [
      "A =  [[6 7]\n",
      " [9 1]]\n",
      "B =  [[6 6 2]\n",
      " [4 4 5]]\n",
      "A * B =  [[64 64 47]\n",
      " [58 58 23]]\n"
     ]
    }
   ],
   "source": [
    "a = np.random.randint(1, 11, (2, 2))\n",
    "print(\"A = \", a)\n",
    "b = np.random.randint(1, 11, (2, 3))\n",
    "print(\"B = \", b)\n",
    "print(\"A * B = \", np.dot(a, b))"
   ]
  },
  {
   "cell_type": "markdown",
   "metadata": {},
   "source": [
    "8. Cтворіть матрицю розміром 3x3, заповніть її випадковими цілими числами в діапазоні від 1 до 10 та знайдіть її обернену матрицю."
   ]
  },
  {
   "cell_type": "code",
   "execution_count": 9,
   "metadata": {},
   "outputs": [
    {
     "name": "stdout",
     "output_type": "stream",
     "text": [
      "A =  [[ 8  6 10]\n",
      " [10  5  8]\n",
      " [ 1  4  1]]\n",
      "A^-1 =  [[-0.22131148  0.27868852 -0.01639344]\n",
      " [-0.01639344 -0.01639344  0.29508197]\n",
      " [ 0.28688525 -0.21311475 -0.16393443]]\n"
     ]
    }
   ],
   "source": [
    "a = np.random.randint(1, 11, (3, 3))\n",
    "print(\"A = \", a)\n",
    "\n",
    "a_inv = np.linalg.inv(a)\n",
    "print(\"A^-1 = \", a_inv)"
   ]
  },
  {
   "cell_type": "markdown",
   "metadata": {},
   "source": [
    "9. Створіть матрицю розміром 4x4, заповніть її випадковими дійсними числами в діапазоні від 0 до 1 та транспонуйте її."
   ]
  },
  {
   "cell_type": "code",
   "execution_count": 10,
   "metadata": {},
   "outputs": [
    {
     "name": "stdout",
     "output_type": "stream",
     "text": [
      "A =  [[ 6  3  1  7]\n",
      " [ 3 10  3  2]\n",
      " [ 8  2  2  8]\n",
      " [ 7  2  3  6]]\n",
      "B = [[ 6  3  8  7]\n",
      " [ 3 10  2  2]\n",
      " [ 1  3  2  3]\n",
      " [ 7  2  8  6]]\n"
     ]
    }
   ],
   "source": [
    "a = np.random.randint(1, 11, (4, 4))\n",
    "print(\"A = \", a)\n",
    "\n",
    "b = a.T\n",
    "print(\"B =\",b)"
   ]
  },
  {
   "cell_type": "markdown",
   "metadata": {},
   "source": [
    "10. Створіть матрицю розміром 3x4 та вектор розміром 4, заповніть їх випадковими цілими числами в діапазоні від 1 до 10 та перемножте матрицю на вектор."
   ]
  },
  {
   "cell_type": "code",
   "execution_count": 11,
   "metadata": {},
   "outputs": [
    {
     "name": "stdout",
     "output_type": "stream",
     "text": [
      "M =  [[10  8  8  9]\n",
      " [ 4  6  4  7]\n",
      " [ 2 10  9  2]]\n",
      "v =  [8 6 8 4]\n",
      "M * v =  [228 128 156]\n"
     ]
    }
   ],
   "source": [
    "m = np.random.randint(1, 11, size=(3, 4))\n",
    "v = np.random.randint(1, 11, size=4)\n",
    "\n",
    "print(\"M = \", m)\n",
    "print(\"v = \", v)\n",
    "\n",
    "print('M * v = ', np.dot(m, v))"
   ]
  },
  {
   "cell_type": "markdown",
   "metadata": {},
   "source": [
    "11. Створіть матрицю розміром 2x3 та вектор розміром 3, заповніть їх випадковими дійсними числами в діапазоні від 0 до 1 та перемножте матрицю на вектор."
   ]
  },
  {
   "cell_type": "code",
   "execution_count": 12,
   "metadata": {},
   "outputs": [
    {
     "name": "stdout",
     "output_type": "stream",
     "text": [
      "M =  [[0.19749877 0.44851262 0.05283868]\n",
      " [0.89049336 0.92800611 0.65846242]]\n",
      "v =  [0.79409964 0.12646502 0.47164269]\n",
      "M * v =  [0.23847584 1.13505975]\n"
     ]
    }
   ],
   "source": [
    "m = np.random.rand(2, 3)\n",
    "v = np.random.rand(3)\n",
    "\n",
    "print(\"M = \", m)\n",
    "print(\"v = \", v)\n",
    "\n",
    "print('M * v = ', np.dot(m, v))"
   ]
  },
  {
   "cell_type": "markdown",
   "metadata": {},
   "source": [
    "12. Створіть дві матриці розміром 2x2, заповніть їх випадковими цілими числами в діапазоні від 1 до 10 та виконайте їхнє поелементне множення."
   ]
  },
  {
   "cell_type": "code",
   "execution_count": 13,
   "metadata": {},
   "outputs": [
    {
     "name": "stdout",
     "output_type": "stream",
     "text": [
      "A =  [[10 10]\n",
      " [ 7  9]]\n",
      "B =  [[5 8]\n",
      " [7 1]]\n",
      "A * B =  [[50 80]\n",
      " [49  9]]\n"
     ]
    }
   ],
   "source": [
    "A = np.random.randint(1, 11, size=(2, 2))\n",
    "B = np.random.randint(1, 11, size=(2, 2))\n",
    "\n",
    "print(\"A = \", A)\n",
    "print(\"B = \", B)\n",
    "\n",
    "print(\"A * B = \", A * B)"
   ]
  },
  {
   "cell_type": "markdown",
   "metadata": {},
   "source": [
    "13. Створіть дві матриці розміром 2x2, заповніть їх випадковими цілими числами в діапазоні від 1 до 10 та знайдіть їх добуток."
   ]
  },
  {
   "cell_type": "code",
   "execution_count": 14,
   "metadata": {},
   "outputs": [
    {
     "name": "stdout",
     "output_type": "stream",
     "text": [
      "A =  [[3 5]\n",
      " [6 1]]\n",
      "B =  [[ 3  5]\n",
      " [ 9 10]]\n",
      "A * B =  [[54 65]\n",
      " [27 40]]\n"
     ]
    }
   ],
   "source": [
    "A = np.random.randint(1, 11, size=(2, 2))\n",
    "B = np.random.randint(1, 11, size=(2, 2))\n",
    "\n",
    "print(\"A = \", A)\n",
    "print(\"B = \", B)\n",
    "\n",
    "print(\"A * B = \", np.dot(A,B))"
   ]
  },
  {
   "cell_type": "markdown",
   "metadata": {},
   "source": [
    "14. Створіть матрицю розміром 5x5, заповніть її випадковими цілими числами в діапазоні від 1 до 100 та знайдіть суму елементів матриці."
   ]
  },
  {
   "cell_type": "code",
   "execution_count": 15,
   "metadata": {},
   "outputs": [
    {
     "name": "stdout",
     "output_type": "stream",
     "text": [
      "M =  [[35 30 88 90 11]\n",
      " [58 98 38 77 24]\n",
      " [46  9 32 96 76]\n",
      " [18 98  4 34 31]\n",
      " [43 70 83 36 73]]\n",
      "Msum =  1298\n"
     ]
    }
   ],
   "source": [
    "M = np.random.randint(1, 101, size=(5, 5))\n",
    "\n",
    "print(\"M = \", M)\n",
    "\n",
    "print(\"Msum = \",np.sum(M))"
   ]
  },
  {
   "cell_type": "markdown",
   "metadata": {},
   "source": [
    "15. Створіть дві матриці розміром 4x4, заповніть їх випадковими цілими числами в діапазоні від 1 до 10 та знайдіть їхню різницю."
   ]
  },
  {
   "cell_type": "code",
   "execution_count": 16,
   "metadata": {},
   "outputs": [
    {
     "name": "stdout",
     "output_type": "stream",
     "text": [
      "A =  [[10  7 10  9]\n",
      " [ 9  7 10  5]\n",
      " [ 2  7 10  7]\n",
      " [ 7  5  1  8]]\n",
      "B =  [[ 7  2  9  4]\n",
      " [10  1 10  2]\n",
      " [ 1  1  6 10]\n",
      " [10  6  6  9]]\n",
      "A - B = [[ 3  5  1  5]\n",
      " [-1  6  0  3]\n",
      " [ 1  6  4 -3]\n",
      " [-3 -1 -5 -1]]\n"
     ]
    }
   ],
   "source": [
    "A = np.random.randint(1, 11, size=(4, 4))\n",
    "B = np.random.randint(1, 11, size=(4, 4))\n",
    "\n",
    "print(\"A = \", A)\n",
    "print(\"B = \", B)\n",
    "\n",
    "print(\"A - B =\", A-B)"
   ]
  },
  {
   "cell_type": "markdown",
   "metadata": {},
   "source": [
    "16. Створіть матрицю розміром 3x3, заповніть її випадковими дійсними числами в діапазоні від 0 до 1 та знайдіть вектор-стовпчик, що містить суму елементів кожного рядка матриці."
   ]
  },
  {
   "cell_type": "code",
   "execution_count": 17,
   "metadata": {},
   "outputs": [
    {
     "name": "stdout",
     "output_type": "stream",
     "text": [
      "M =  [[0.0963071  0.89608744 0.12971958 0.00672565 0.33332453]\n",
      " [0.62301704 0.91254197 0.81075598 0.35576368 0.35724767]\n",
      " [0.68791869 0.72820438 0.07306345 0.41921561 0.1517507 ]\n",
      " [0.22987175 0.44836989 0.13364249 0.39405667 0.21132295]\n",
      " [0.96708093 0.11469668 0.99716739 0.44631467 0.57967584]]\n",
      "row_sum =  [[1.4621643 ]\n",
      " [3.05932634]\n",
      " [2.06015283]\n",
      " [1.41726374]\n",
      " [3.10493551]]\n"
     ]
    }
   ],
   "source": [
    "M = np.random.rand(5, 5)\n",
    "\n",
    "print(\"M = \", M)\n",
    "\n",
    "print(\"row_sum = \",(np.sum(M, axis=1, keepdims=True)))"
   ]
  },
  {
   "cell_type": "markdown",
   "metadata": {},
   "source": [
    "17. Створіть матрицю розміром 3x4 з довільними цілими числами і створінь матрицю з квадратами цих чисел."
   ]
  },
  {
   "cell_type": "code",
   "execution_count": 18,
   "metadata": {},
   "outputs": [
    {
     "name": "stdout",
     "output_type": "stream",
     "text": [
      " M original =  [[0.5579857  0.49593694 0.27002698 0.85739776]\n",
      " [0.99659198 0.31055644 0.05511842 0.00206587]\n",
      " [0.56310239 0.43081152 0.76900256 0.86752633]]\n",
      "M squared =  [[3.11348038e-01 2.45953445e-01 7.29145679e-02 7.35130913e-01]\n",
      " [9.93195571e-01 9.64453018e-02 3.03804049e-03 4.26781342e-06]\n",
      " [3.17084297e-01 1.85598568e-01 5.91364933e-01 7.52601935e-01]]\n"
     ]
    }
   ],
   "source": [
    "M = np.random.rand(3, 4)\n",
    "\n",
    "print(\" M original = \", M)\n",
    "\n",
    "print(\"M squared = \", np.square(M))"
   ]
  },
  {
   "cell_type": "markdown",
   "metadata": {},
   "source": [
    "18. Створіть вектор розміром 4, заповніть його випадковими цілими числами в діапазоні від 1 до 50 та знайдіть вектор з квадратними коренями цих чисел."
   ]
  },
  {
   "cell_type": "code",
   "execution_count": 19,
   "metadata": {},
   "outputs": [
    {
     "name": "stdout",
     "output_type": "stream",
     "text": [
      "v =  [22 15 43 47]\n",
      "v squared =  [4.69041576 3.87298335 6.55743852 6.8556546 ]\n"
     ]
    }
   ],
   "source": [
    "v = np.random.randint(1, 51, size=4)\n",
    "\n",
    "print(\"v = \", v)\n",
    "\n",
    "print(\"v squared = \", np.sqrt(v))"
   ]
  }
 ],
 "metadata": {
  "kernelspec": {
   "display_name": "Python 3",
   "language": "python",
   "name": "python3"
  },
  "language_info": {
   "codemirror_mode": {
    "name": "ipython",
    "version": 3
   },
   "file_extension": ".py",
   "mimetype": "text/x-python",
   "name": "python",
   "nbconvert_exporter": "python",
   "pygments_lexer": "ipython3",
   "version": "3.10.8"
  }
 },
 "nbformat": 4,
 "nbformat_minor": 2
}
